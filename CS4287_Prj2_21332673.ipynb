{
  "cells": [
    {
      "cell_type": "markdown",
      "metadata": {
        "id": "view-in-github",
        "colab_type": "text"
      },
      "source": [
        "<a href=\"https://colab.research.google.com/github/KillianCa/CS4287-Project2/blob/main/CS4287_Prj2_21332673.ipynb\" target=\"_parent\"><img src=\"https://colab.research.google.com/assets/colab-badge.svg\" alt=\"Open In Colab\"/></a>"
      ]
    },
    {
      "cell_type": "markdown",
      "metadata": {
        "id": "8UmkfYr3ZOT6"
      },
      "source": [
        "**Student name and ID:**\n",
        "\n",
        "Killian Carty - 21332673\n",
        "\n",
        "\n",
        "**Excecution of Code:**\n",
        "\n",
        "Code executes till end without error.\n",
        "\n",
        "\n",
        "**Third Party Implementations:**\n",
        "\n",
        "This DQN was implemented using the code using the following\n",
        "\n",
        "CS4387 lab 9 - https://learn.ul.ie/d2l/le/lessons/45660/topics/846685\n",
        "\n",
        "CS4387 lecture P - https://learn.ul.ie/d2l/le/lessons/45660/topics/809573\n",
        "\n",
        "Gym Enviornment Mountain Car - https://www.gymlibrary.dev/environments/classic_control/mountain_car/\n",
        "\n",
        "link to github repository where mountain car problem is solved - https://github.com/adibyte95/Mountain_car-OpenAI-GYM\n",
        "\n",
        "**Note Book Structure:**\n",
        "\n",
        "The note book follows the following structure.\n",
        "\n",
        "*   List of third part sources\n",
        "*   Code implementation with comments and texts blocks\n",
        "*   Why reinforcement learning\n",
        "*   The gym environment\n",
        "*   Implementation\n",
        "*   Results\n",
        "*   Results evaluation\n",
        "*   Full code with no comments or text blocks in a single code block\n",
        "\n",
        "\n"
      ]
    },
    {
      "cell_type": "markdown",
      "metadata": {
        "id": "NIKaPFlNeKlp"
      },
      "source": [
        "# Code Implementation With Comments And Text Blocks"
      ]
    },
    {
      "cell_type": "markdown",
      "metadata": {
        "id": "Edk2C-6hdfFQ"
      },
      "source": [
        "Importing the necessary libraries needed to complete the assignment"
      ]
    },
    {
      "cell_type": "code",
      "execution_count": null,
      "metadata": {
        "id": "3pjRn0yZYyBK",
        "colab": {
          "base_uri": "https://localhost:8080/"
        },
        "outputId": "0ed67107-ddd6-4de7-b7ba-3549f343e2ee"
      },
      "outputs": [
        {
          "output_type": "stream",
          "name": "stderr",
          "text": [
            "/usr/local/lib/python3.10/dist-packages/tensorflow/lite/python/util.py:55: DeprecationWarning: jax.xla_computation is deprecated. Please use the AOT APIs; see https://jax.readthedocs.io/en/latest/aot.html. For example, replace xla_computation(f)(*xs) with jit(f).lower(*xs).compiler_ir('hlo'). See CHANGELOG.md for 0.4.30 for more examples.\n",
            "  from jax import xla_computation as _xla_computation\n"
          ]
        }
      ],
      "source": [
        "#To provide ways to create random numbers to use for implementation\n",
        "import random\n",
        "#To create the enviornment for reinforcement learning for mountain car\n",
        "import gym\n",
        "#For maths calculations\n",
        "import numpy as np\n",
        "#Used to build and implement the DQN\n",
        "from collections import deque\n",
        "import tensorflow as tf\n",
        "from tensorflow.keras.models import Sequential\n",
        "from tensorflow.keras.layers import Dense\n",
        "from tensorflow.keras.optimizers import Adam\n",
        "#Used to create plots and visulisations\n",
        "import matplotlib.pyplot as plt"
      ]
    },
    {
      "cell_type": "markdown",
      "metadata": {
        "id": "NXncNDPvbSe6"
      },
      "source": [
        "Adding a random seed to ensure reproducibility during testing and debugging as the training process is consistent across runs"
      ]
    },
    {
      "cell_type": "code",
      "execution_count": null,
      "metadata": {
        "id": "m6eMagyKbSAb"
      },
      "outputs": [],
      "source": [
        "#defining a random seed number ( can be any value )\n",
        "SEED = 40\n",
        "#setting this seed for random library\n",
        "random.seed(SEED)\n",
        "#setting this seed for numpy library\n",
        "np.random.seed(SEED)\n",
        "#setting this seed for tensorflow library\n",
        "tf.random.set_seed(SEED)"
      ]
    },
    {
      "cell_type": "markdown",
      "metadata": {
        "id": "Yc6-8jmpwtQU"
      },
      "source": [
        "Defining the constant hyper parameters"
      ]
    },
    {
      "cell_type": "code",
      "execution_count": null,
      "metadata": {
        "id": "DImuNWeCw088"
      },
      "outputs": [],
      "source": [
        "#Total number of training episodes\n",
        "EPOCHS = 1000\n",
        "# The threshold defines what is classified as solving the problem.\n",
        "# In mountain car if the average reward is greater than or equal to -110\n",
        "# over 100 episodes that is considered a success\n",
        "THRESHOLD = -110\n",
        "#Number of samples used for training in each replay step\n",
        "BATCH_SIZE = 64"
      ]
    },
    {
      "cell_type": "markdown",
      "metadata": {
        "id": "8n_B__JLx7tE"
      },
      "source": [
        "Defining teh DQN class that will create the network and define all the methods we will use to solve the problem"
      ]
    },
    {
      "cell_type": "code",
      "execution_count": null,
      "metadata": {
        "id": "HuqB1BwPyGom"
      },
      "outputs": [],
      "source": [
        "class DQN:\n",
        "  #Constructor takes the name of the gym enviornment with is mountain car as \"env_string\".\n",
        "  #Number of experinces sampled for training is \"batch_size\"\n",
        "  def __init__(self, env_string, batch_size=BATCH_SIZE):\n",
        "    #Creating memory buffer for storing experinces limiting the meory to 100000 most recent experinces\n",
        "    self.memory = deque(maxlen=100000)\n",
        "    #Loading the gym environment\n",
        "    self.env = gym.make(env_string)\n",
        "    #Input size set to number of values for the state which is 2 for mountaincar\n",
        "    #Cars position and cars velocity\n",
        "    input_size = self.env.observation_space.shape[0]\n",
        "    #Actions size is set to number of possible actions in enviormnet which is 3 for mountain car\n",
        "    #push left, do nothing, push right\n",
        "    action_size = self.env.action_space.n\n",
        "    #NUmber of experinces per training batch\n",
        "    self.batch_size = batch_size\n",
        "    #discount factor for future rewards, which encourages long term rewrads ober short term\n",
        "    self.gamma = 0.99\n",
        "    #This is the exploration rate, probabality of random actioons\n",
        "    self.epsilon = 1.0\n",
        "    #The minimum exploration rate\n",
        "    self.epsilon_min = 0.01\n",
        "    #rate the exploration rate is reduced ensureing behavior gradually shifts from exploration\n",
        "    #to exploitation (however it will never decay below epsilon_min)\n",
        "    self.epsilon_decay = 0.995\n",
        "    #this is the learning rate for the network\n",
        "    self.alpha = 0.01\n",
        "\n",
        "    #Creating the network structure\n",
        "    #intialiseing the model as sequential\n",
        "    self.model = Sequential()\n",
        "    #Adding first layer to model. Fully connected with 24 neurons setting input_size to number of state values\n",
        "    #which is 2 for mountain car\n",
        "    #using relu as activation introducing non linearity and reducing vanishing gradient issues\n",
        "    self.model.add(Dense(24, input_dim=input_size, activation='relu'))\n",
        "    #Adding second layer to model. Fully connected with 24 neurons.\n",
        "    #Using relu as activation introducing non linearity and reducing vanishing gradient issues\n",
        "    self.model.add(Dense(24, activation = \"relu\"))\n",
        "    #Adding final putput layer. number of neurons is set to action_size which is the number of possible actions in enviornment\n",
        "    #which is 3 for mountain car\n",
        "    #Activation function is linear meaning no function applied\n",
        "    self.model.add(Dense(action_size, activation = \"linear\"))\n",
        "    #compiling the model using adam optimizer and learning rate set to alpha and loss is set to mean square error\n",
        "    self.model.compile(loss = \"mse\", optimizer = Adam(learning_rate = self.alpha))\n",
        "\n",
        "  #The remeber method stores experiences during its interaction with enviornment\n",
        "  def remember(self, state, action, reward, next_state, done):\n",
        "    #experinece is added with the following: state is set to mountain car envoirnment current state with position and velocity\n",
        "    #action stores the action taken by the agent\n",
        "    #reward stores the reward recieved for taking that action\n",
        "    #next_state stores the resulting state of the enviornmnet after taking the action\n",
        "    #done stores true or false depending if the episode has finshed or not\n",
        "    self.memory.append((state, action, reward, next_state, done))\n",
        "\n",
        "  #This method selects the action the agent will take\n",
        "  def choose_action(self, state):\n",
        "    #generate a random number and if it is less than or equal to the exploration rate a random action is taken\n",
        "    if np.random.rand() <= self.epsilon:\n",
        "      #returning the random action that has been selected\n",
        "      return self.env.action_space.sample()\n",
        "    #if random number is greater than exploration rate we predict all q values for all possible actions\n",
        "    #verbose = 0 gets rid of unneeded outputs\n",
        "    q_values = self.model.predict(state, verbose = 0)\n",
        "    #we return the action with the highest q value\n",
        "    return np.argmax(q_values[0])\n",
        "\n",
        "  #function to reshape input to match that requierd by network\n",
        "  #state is a 1D array of [position, velocity]\n",
        "  #we reshape it into 2D array for the network\n",
        "  def preprocess_state(self, state):\n",
        "    return np.reshape(state, [1, self.env.observation_space.shape[0]])\n",
        "\n",
        "  #Method that will be used in training method that uses past experinces to train model\n",
        "  def replay(self):\n",
        "     # We check that memory has enough values to generate a sample of batch size, if not we skip the replay method\n",
        "    if len(self.memory) < self.batch_size:\n",
        "        return\n",
        "    #mini batch is a batch of randomly selected experineces from memory\n",
        "    minibatch = random.sample(self.memory, self.batch_size)\n",
        "    #for each experinece in the minibatch we do the following\n",
        "    for state, action, reward, next_state, done in minibatch:\n",
        "      #target is set to either\n",
        "      #the reward if done is set to true meaning the episode has finished\n",
        "      #if the episode is not finished target is set to reward + (discount factor * the max q-value for next state)\n",
        "      target = reward if done else reward + self.gamma * np.amax(self.model.predict(next_state, verbose = 0)[0])\n",
        "      #Q values are adjusted usinng the target, updating the action that was taken\n",
        "      target_f = self.model.predict(state, verbose=0)\n",
        "      target_f[0][action] = target\n",
        "      #We then train the network wityh the new q values\n",
        "      self.model.fit(state, target_f, epochs=1, verbose=0)\n",
        "      #exploration rate is updated gradually reducing exploration\n",
        "      if self.epsilon > self.epsilon_min:\n",
        "        self.epsilon *= self.epsilon_decay\n",
        "\n",
        "  def train(self):\n",
        "    #variable scores created to keep track of last 100 episodes which we use to measure preformance\n",
        "    scores = deque(maxlen=100)\n",
        "    #avg_scores stores the avrafe scores over the episodes which we compare with threshold to determine success\n",
        "    avg_scores = []\n",
        "    #loop going through each episode in the range epochs which is 1000\n",
        "    for e in range(EPOCHS):\n",
        "      #reseting the enviornment ensuring each episode begins in intial state\n",
        "      state = self.env.reset()\n",
        "      #reshaping state into shape required by network\n",
        "      state = self.preprocess_state(state)\n",
        "      #done inidacates if the episode has finished or not\n",
        "      done = False\n",
        "      #i measures the total score over the entire episode\n",
        "      i = 0\n",
        "      #creating a while loop that runs while done is false, the agent interacts with\n",
        "      #the enviornment inside this loop until either they reach the end of the episode or the mean\n",
        "      #score exceeds the threshold\n",
        "      while not done:\n",
        "        #The agent selects an action based on the choose action function we defined\n",
        "        action = self.choose_action(state)\n",
        "        #the action selected is exectuded and we store the results\n",
        "        next_state, reward, done, _ = self.env.step(action)\n",
        "        #we reshape the next state into the shape required by the network\n",
        "        next_state = self.preprocess_state(next_state)\n",
        "        # We set the rewards:\n",
        "        #The reward is set to the car's position (next_state[0][0]).\n",
        "        #This provides feedback to encourage progress toward the goal. The closer to the goal the more positive the cars position is.\n",
        "        #for example -1.2 is the position furthest away from the goal and the number increases as the car approaches the goal encouraging the agent\n",
        "        #to prioratise actions that move towards the goal\n",
        "        #If the episode is done:\n",
        "        #If the car's position is less than 0.5, the agent has not reached its goal, and the reward remains unchanged.\n",
        "        #If the car's position is greater than or equal to 0.5, the agent is rewarded with 100,\n",
        "        #providing a strong incentive for reaching the goal.\n",
        "        reward = next_state[0][0]\n",
        "        if done and next_state[0][0] >= 0.5:\n",
        "          reward = 100\n",
        "        #we save the experince using the remember method so it can be used for training\n",
        "        self.remember(state, action, reward, next_state, done)\n",
        "        #we then update the state to match the new state after the action\n",
        "        state = next_state\n",
        "         #adding the new reward to the total reward\n",
        "        i += reward\n",
        "\n",
        "      #once the episode ends and we leave the while loop we add the episodes total reward to score\n",
        "      scores.append(i)\n",
        "      #update the average score\n",
        "      avg_score = np.mean(scores)\n",
        "      #we then append this new avrage to the list of averages\n",
        "      avg_scores.append(avg_score)\n",
        "\n",
        "      #We now check is the avr_score exceeds the threshold and we are past the 100th episode returning the average scores if we do\n",
        "      if avg_score >= THRESHOLD and e >= 100:\n",
        "        print(\"Ran {} episodes. Solved after {} trials\".format(e, e))\n",
        "        return avg_scores\n",
        "\n",
        "      #we print the episode number and avrage reward to get feedback during training\n",
        "      if e % 20 == 0:\n",
        "        print(\"[Episode {}] - Mean survival time over last 100 episodes: {} ticks.\".format(e, avg_score))\n",
        "        print(\"Episode {}: Total Reward = {}\".format(e, i))\n",
        "\n",
        "      #we call the replay function so the model learns from the new experineces\n",
        "      self.replay()\n",
        "\n",
        "    #if we reach this point it means the agent went tghrough all episodes and could not solve problem\n",
        "    #we print tyhis info to the console and return the avrage scores\n",
        "    print('Did not solve after {} episodes ðŸ ̃ž'.format(e))\n",
        "    return avg_score\n",
        "\n",
        "\n"
      ]
    },
    {
      "cell_type": "markdown",
      "metadata": {
        "id": "9QCp1DoK8Bq5"
      },
      "source": [
        "Main script where the agent attemps to solve mountain car problem"
      ]
    },
    {
      "cell_type": "code",
      "execution_count": null,
      "metadata": {
        "colab": {
          "base_uri": "https://localhost:8080/",
          "height": 1000
        },
        "id": "ag5KMQxm8NZG",
        "outputId": "a975e67d-0c9c-418e-a9c2-89193610ed9a"
      },
      "outputs": [
        {
          "output_type": "stream",
          "name": "stderr",
          "text": [
            "/usr/local/lib/python3.10/dist-packages/gym/core.py:317: DeprecationWarning: \u001b[33mWARN: Initializing wrapper in old step API which returns one bool instead of two. It is recommended to set `new_step_api=True` to use new step API. This will be the default behaviour in future.\u001b[0m\n",
            "  deprecation(\n",
            "/usr/local/lib/python3.10/dist-packages/gym/wrappers/step_api_compatibility.py:39: DeprecationWarning: \u001b[33mWARN: Initializing environment in old step API which returns one bool instead of two. It is recommended to set `new_step_api=True` to use new step API. This will be the default behaviour in future.\u001b[0m\n",
            "  deprecation(\n",
            "/usr/local/lib/python3.10/dist-packages/keras/src/layers/core/dense.py:87: UserWarning: Do not pass an `input_shape`/`input_dim` argument to a layer. When using Sequential models, prefer using an `Input(shape)` object as the first layer in the model instead.\n",
            "  super().__init__(activity_regularizer=activity_regularizer, **kwargs)\n",
            "/usr/local/lib/python3.10/dist-packages/gym/utils/passive_env_checker.py:241: DeprecationWarning: `np.bool8` is a deprecated alias for `np.bool_`.  (Deprecated NumPy 1.24)\n",
            "  if not isinstance(terminated, (bool, np.bool8)):\n"
          ]
        },
        {
          "output_type": "stream",
          "name": "stdout",
          "text": [
            "[Episode 0] - Mean survival time over last 100 episodes: -105.13361892104149 ticks.\n",
            "Episode 0: Total Reward = -105.13361892104149\n",
            "[Episode 20] - Mean survival time over last 100 episodes: -103.71663105203992 ticks.\n",
            "Episode 20: Total Reward = -74.85541316866875\n",
            "[Episode 40] - Mean survival time over last 100 episodes: -103.20413142733457 ticks.\n",
            "Episode 40: Total Reward = -105.19155666232109\n",
            "[Episode 60] - Mean survival time over last 100 episodes: -99.17914551814071 ticks.\n",
            "Episode 60: Total Reward = -133.34363359212875\n",
            "[Episode 80] - Mean survival time over last 100 episodes: -94.85522612248674 ticks.\n",
            "Episode 80: Total Reward = -85.80018183588982\n",
            "Ran 100 episodes. Solved after 100 trials\n"
          ]
        },
        {
          "output_type": "display_data",
          "data": {
            "text/plain": [
              "<Figure size 640x480 with 1 Axes>"
            ],
            "image/png": "[encoded data removed]"
          },
          "metadata": {}
        },
        {
          "output_type": "display_data",
          "data": {
            "text/plain": [
              "\u001b[1mModel: \"sequential\"\u001b[0m\n"
            ],
            "text/html": [
              "<pre style=\"white-space:pre;overflow-x:auto;line-height:normal;font-family:Menlo,'DejaVu Sans Mono',consolas,'Courier New',monospace\"><span style=\"font-weight: bold\">Model: \"sequential\"</span>\n",
              "</pre>\n"
            ]
          },
          "metadata": {}
        },
        {
          "output_type": "display_data",
          "data": {
            "text/plain": [
              "┏━━━━━━━━━━━━━━━━━━━━━━━━━━━━━━━━━━━━━━┳━━━━━━━━━━━━━━━━━━━━━━━━━━━━━┳━━━━━━━━━━━━━━━━━┓\n",
              "┃\u001b[1m \u001b[0m\u001b[1mLayer (type)                        \u001b[0m\u001b[1m \u001b[0m┃\u001b[1m \u001b[0m\u001b[1mOutput Shape               \u001b[0m\u001b[1m \u001b[0m┃\u001b[1m \u001b[0m\u001b[1m        Param #\u001b[0m\u001b[1m \u001b[0m┃\n",
              "┡━━━━━━━━━━━━━━━━━━━━━━━━━━━━━━━━━━━━━━╇━━━━━━━━━━━━━━━━━━━━━━━━━━━━━╇━━━━━━━━━━━━━━━━━┩\n",
              "│ dense (\u001b[38;5;33mDense\u001b[0m)                        │ (\u001b[38;5;45mNone\u001b[0m, \u001b[38;5;34m24\u001b[0m)                  │              \u001b[38;5;34m72\u001b[0m │\n",
              "├──────────────────────────────────────┼─────────────────────────────┼─────────────────┤\n",
              "│ dense_1 (\u001b[38;5;33mDense\u001b[0m)                      │ (\u001b[38;5;45mNone\u001b[0m, \u001b[38;5;34m24\u001b[0m)                  │             \u001b[38;5;34m600\u001b[0m │\n",
              "├──────────────────────────────────────┼─────────────────────────────┼─────────────────┤\n",
              "│ dense_2 (\u001b[38;5;33mDense\u001b[0m)                      │ (\u001b[38;5;45mNone\u001b[0m, \u001b[38;5;34m3\u001b[0m)                   │              \u001b[38;5;34m75\u001b[0m │\n",
              "└──────────────────────────────────────┴─────────────────────────────┴─────────────────┘\n"
            ],
            "text/html": [
              "<pre style=\"white-space:pre;overflow-x:auto;line-height:normal;font-family:Menlo,'DejaVu Sans Mono',consolas,'Courier New',monospace\">┏━━━━━━━━━━━━━━━━━━━━━━━━━━━━━━━━━━━━━━┳━━━━━━━━━━━━━━━━━━━━━━━━━━━━━┳━━━━━━━━━━━━━━━━━┓\n",
              "┃<span style=\"font-weight: bold\"> Layer (type)                         </span>┃<span style=\"font-weight: bold\"> Output Shape                </span>┃<span style=\"font-weight: bold\">         Param # </span>┃\n",
              "┡━━━━━━━━━━━━━━━━━━━━━━━━━━━━━━━━━━━━━━╇━━━━━━━━━━━━━━━━━━━━━━━━━━━━━╇━━━━━━━━━━━━━━━━━┩\n",
              "│ dense (<span style=\"color: #0087ff; text-decoration-color: #0087ff\">Dense</span>)                        │ (<span style=\"color: #00d7ff; text-decoration-color: #00d7ff\">None</span>, <span style=\"color: #00af00; text-decoration-color: #00af00\">24</span>)                  │              <span style=\"color: #00af00; text-decoration-color: #00af00\">72</span> │\n",
              "├──────────────────────────────────────┼─────────────────────────────┼─────────────────┤\n",
              "│ dense_1 (<span style=\"color: #0087ff; text-decoration-color: #0087ff\">Dense</span>)                      │ (<span style=\"color: #00d7ff; text-decoration-color: #00d7ff\">None</span>, <span style=\"color: #00af00; text-decoration-color: #00af00\">24</span>)                  │             <span style=\"color: #00af00; text-decoration-color: #00af00\">600</span> │\n",
              "├──────────────────────────────────────┼─────────────────────────────┼─────────────────┤\n",
              "│ dense_2 (<span style=\"color: #0087ff; text-decoration-color: #0087ff\">Dense</span>)                      │ (<span style=\"color: #00d7ff; text-decoration-color: #00d7ff\">None</span>, <span style=\"color: #00af00; text-decoration-color: #00af00\">3</span>)                   │              <span style=\"color: #00af00; text-decoration-color: #00af00\">75</span> │\n",
              "└──────────────────────────────────────┴─────────────────────────────┴─────────────────┘\n",
              "</pre>\n"
            ]
          },
          "metadata": {}
        },
        {
          "output_type": "display_data",
          "data": {
            "text/plain": [
              "\u001b[1m Total params: \u001b[0m\u001b[38;5;34m2,243\u001b[0m (8.77 KB)\n"
            ],
            "text/html": [
              "<pre style=\"white-space:pre;overflow-x:auto;line-height:normal;font-family:Menlo,'DejaVu Sans Mono',consolas,'Courier New',monospace\"><span style=\"font-weight: bold\"> Total params: </span><span style=\"color: #00af00; text-decoration-color: #00af00\">2,243</span> (8.77 KB)\n",
              "</pre>\n"
            ]
          },
          "metadata": {}
        },
        {
          "output_type": "display_data",
          "data": {
            "text/plain": [
              "\u001b[1m Trainable params: \u001b[0m\u001b[38;5;34m747\u001b[0m (2.92 KB)\n"
            ],
            "text/html": [
              "<pre style=\"white-space:pre;overflow-x:auto;line-height:normal;font-family:Menlo,'DejaVu Sans Mono',consolas,'Courier New',monospace\"><span style=\"font-weight: bold\"> Trainable params: </span><span style=\"color: #00af00; text-decoration-color: #00af00\">747</span> (2.92 KB)\n",
              "</pre>\n"
            ]
          },
          "metadata": {}
        },
        {
          "output_type": "display_data",
          "data": {
            "text/plain": [
              "\u001b[1m Non-trainable params: \u001b[0m\u001b[38;5;34m0\u001b[0m (0.00 B)\n"
            ],
            "text/html": [
              "<pre style=\"white-space:pre;overflow-x:auto;line-height:normal;font-family:Menlo,'DejaVu Sans Mono',consolas,'Courier New',monospace\"><span style=\"font-weight: bold\"> Non-trainable params: </span><span style=\"color: #00af00; text-decoration-color: #00af00\">0</span> (0.00 B)\n",
              "</pre>\n"
            ]
          },
          "metadata": {}
        },
        {
          "output_type": "display_data",
          "data": {
            "text/plain": [
              "\u001b[1m Optimizer params: \u001b[0m\u001b[38;5;34m1,496\u001b[0m (5.85 KB)\n"
            ],
            "text/html": [
              "<pre style=\"white-space:pre;overflow-x:auto;line-height:normal;font-family:Menlo,'DejaVu Sans Mono',consolas,'Courier New',monospace\"><span style=\"font-weight: bold\"> Optimizer params: </span><span style=\"color: #00af00; text-decoration-color: #00af00\">1,496</span> (5.85 KB)\n",
              "</pre>\n"
            ]
          },
          "metadata": {}
        }
      ],
      "source": [
        "#set variable env_string to mountain car which we will pass to the DQN class constructor\n",
        "env_string = \"MountainCar-v0\"\n",
        "#agent is set to instance of DQN class\n",
        "agent = DQN(env_string)\n",
        "#we train the agent and return the avrage scores\n",
        "avg_scores = agent.train()\n",
        "\n",
        "#We plot the results of of the training process number of episodes compared to reward\n",
        "plt.plot(avg_scores)\n",
        "plt.xlabel('Episodes')\n",
        "plt.ylabel('Average Reward')\n",
        "plt.title('DQN Training Performance on MountainCar-v0')\n",
        "plt.show()\n",
        "\n",
        "#print summary of the network used by the dqn agent\n",
        "agent.model.summary()"
      ]
    },
    {
      "cell_type": "markdown",
      "metadata": {
        "id": "7x6NFRwDb_P8"
      },
      "source": [
        "#Why Reinforcement Learning:\n",
        "**Attributes of Reinforcement Learning:**The mountain car problem involes interacting with an enviroment taking various actions in ceratin states to advance to a new state, attempting to maximize a long term reward. This type of problem is perfect for reinforcement learning as RL is designed to solve problems by learning an optimal solution to maximize a long term reward. By using reinformcement learning we can train an agent to select the correct actions in certain states to maximize the overall reward and solve the problem.\n",
        "\n",
        "**Issues using other types of learning:**Since there are no clear explicit lables for the mountain car problem, the use of supervised learning is not possible as there are no input/output pairs for the model to train on to learn patters. Unsupervised learning is also not optimal as mountain car is a goal driven problem where the agent wants to maximize a reward. Unsupervised learning does not take this goal driven approach into account. Unsupervised learning mainly tries to identify patters in data not determining what actions to take to maximize an output.\n",
        "\n",
        "\n",
        "#The Gym Environment:\n",
        "The gym environment is vital for completing this task. The gym environment is an open source libarary from OpenAI that allows you to test and develop reinforcement learning agents. In the above code we use the \"MountainCar-v0\" gym environment. The goal of mountain car is to move a car up a steep hill to the goal flag. The gym environment defines the state space, action space and state transitioning for the mountain car problem.\n",
        "*  State space: The state space represents the current state of the car based on its position and velocity.\n",
        "*  Action Space: The action space describes the 3 actions that can be taken by the agent. Which are go left, go right, do nothing.\n",
        "*  Transitioning: The gym environment also handles the transitioning from one state to another based on the action by updating the cars position and velocity based on the action taken.\n",
        "\n",
        " The gym environment also has a predefined reward system for the problem which is a reward of -1 given for each time step until the car reaches the goal. This -1 per step penalises the agent for taking to long and encourages it to find actions that lead it closer to the goal. This reward system had to be altered in the above code as it was penalising the agent too harshly and it never improved. Intial tests using the defualt reward showed the agent was stuck at an overall reward of -200 which is the worst overall reward in the default system as it means the episode ran for the maximum 200 steps and the agent recieved a -1 reward for each step. The reward system was updated to use the cars position as the reward system as the further the car is away from the goal the smaller the number that represents its position is. This meant that the agent associates being closer to the goal with a higher reward. The default system could be used however the number of epochs would need to be increased as the agent will only improve if it stumbles apon the goal state accidently using trail and error. The gym enviorment also gives useful functions such as \"reset()\" that allow us to reset the environment before the next episode. The overall roll of the gym environment is to provide the agent with the sates actions and enviornment of the problem allowing the agent to play the game and learn an optimal solution.\n",
        "\n",
        "![Image representation of mountain car problem](https://drive.google.com/uc?id=1C4rb0x1znYhX_rkH7FZsnD6k7gS93SpT)\n",
        "\n",
        "(Image representation of mountain car problem)\n",
        "\n",
        "#Implementation:\n",
        "**Capture and Sampling of Data:**\n",
        "The data used for training and learning is captured in the \"remember()\" method in the \"DQN\" class. It stores the agents experinces as a tuple of (state, action, reward, next_state, done):\n",
        "*  state: The current state of the environment\n",
        "*  action: The action selected by the agent.\n",
        "*  reward: The reward revived for taking the action.\n",
        "*  next_state: The new state after the action.\n",
        "*  done: A boolean value indicating if the episode is done or not.\n",
        "\n",
        "Each experience is stored in a deque memory buffer of max size 100,000. Oldest experinces are replaced by new ones if the buffer limit is reached\n",
        "\n",
        "The data from the buffer is sampled in the replay method creating a mini batch of size 64 which randomly selects from the memory buffer.\n",
        "\n",
        "**Network Structure:**\n",
        "The code uses a deep Q-network to solve the problem. It consists of 3 layers: Input, Hidden and Output. The input layer has 24 neurons and uses the relu activation function. The hidden layer also has 24 layers with relu activation function. The relu function is used to avoid issues such as vanishing gradients. The output layer has 3 neurons which corrisonds to the 3 possible actions the agent can take, this layer uses a linear activation function so the values arent changed. The network uses the mean squared error loss function, which calculates the average squared to update the weights with an adam optimizer that has a learning rate of 0.01.\n",
        "\n",
        "**Where Learning Update is Applied:**\n",
        "The Q learning and error calculation take place in the replay method. The Q-values are updated based on the bellman equation. For each experinece if the episode is done the taget q-value for the action is set to the reward as there will be no future actions in the episode. If the episode is not done the target q-value is updated to the reward for the action + the discount factor for future rewards multiplied by the maximum predicted q-value for the next state. The predicted q-values for the current state are then preidicted by the network and we update the q-value for the action taken using the target q-value. We then train the network with the new q-values. The network learns and calculates the error using the mean squared error which compares the q-values outputted by the network to the target q-values calculates the difference between the 2 values and this is used to update the weights.\n",
        "\n",
        "**Random Seed Intialisation:**\n",
        "Setting a random seed ensures reproducibility meaning the trainning process will be consistent across runs. We use random seed of 1671 which is used as the seed for all the random methods. This helps for debugging and comparing results as the training is consistent across different runs.\n",
        "\n",
        "**Impact of Regularisers:**\n",
        "While not implemented in the code regularization methods could be implemented to prevent overfitting, where the model learns the training data too well and preforms poorly on unseen data. Using technequies such as drop out, which turns off some neurons during training, ensures the network does not rely too heavily on certain neurons or L2 regularization, where a weight decay is introduced to penalize large weights in the network. Techniques like these could be added to help the agent preform better on unseen data.\n",
        "\n",
        "**Counters for Catastropic Forgetting:**\n",
        "Catastrophic forgetting is an issue where during training the agent forgets previously learned information while it learns new information. The use of a large buffer containing a number of different expiernces and then randomly sampling this buffer acts as a measure to counter catestrophic forgetting. Given that the buffer is sampled randomly both old and new experinces can be sampled ensuring the network does not forget earlier experinces as new ones are learned\n",
        "\n",
        "#Results:\n",
        "\n",
        "\n",
        "\n",
        "![Image representation of mountain car problem](https://drive.google.com/uc?id=1NGdGbHnLgG62tgHbQZ2xGnfw1VeA-Skd)\n",
        "\n",
        "The problem requires an agent in order to both balance exploration and eploitation effectively. The agent takes actions in different stages during exectuion to maximise the cumulative rewards. This task is ideal when it comes to Deep Q-learning and it can apporixamte the Q-values and learn what is the optimal policy to employ with the use of experience recollection.\n",
        "\n",
        "\n",
        "**Challenges:**\n",
        "While the agent proves the ability of being able to improve it's performance of episodes, initaially the reward is fairly low due the agent's exploration. As the epsilon decays, the agent starts to transition to more of an exploitation based method. This method is done by selecting the learned Q-values which overall does lead to better rewards. Even though at some moments of time the agent achieves higher rewards, there are many oscillations of varying performance.\n",
        "\n",
        "#Evaluation of Results:\n",
        "**Why DQN is used:**\n",
        "This problem requires the agent to learn which actions lead to the end goal while both trying to balance exploration and exploitaiton. Deep-Q learning is very suited to this task as the the network estiamtes action values aka Q-values and improves it's decisions over time.\n",
        "\n",
        "**Training:**\n",
        "The agent is starting off with low rewards and this is done when it is exploring it's environment randomly due to the epislon value. After some time, the epislon starts to decay and this is where the agent begins learning to exploit it's knowldge which it wants to do to get better rewards. While it's evident that after some exploitation rewards imporve, it highlights the fact that there is a challenge when it comes to adequately balancing the learning.\n",
        "\n",
        "**DQN usage reasoning:**\n",
        "the arhcitecture used is optimal as this form of neural network contains features such as experience replay and stable training, in short giving the agent an efficient manner of learning based on previous experiences. This makes sure that there is a consisent improvement in the the performance and helps to solve the issue within the given epsiodes.\n",
        "\n",
        "**Result given from graph:**\n",
        "As shown in the graph above, it is clear that there is a positive performance in the model albeit within the earlier stages of execution. In addition, there is a drastic dip of performance when it comes to the roughly the 80th episode which shows the downside to the model. Reasons for this could include the likes of overfitting within the model or the use of suboptimal hyperparameter usage. To improve on our model we need to further explore the hyperparameters to better suit the needs of which the problem."
      ]
    },
    {
      "cell_type": "markdown",
      "source": [
        "# Full code implemented with no comments in a single code block"
      ],
      "metadata": {
        "id": "TMfk_Y6sE_wR"
      }
    },
    {
      "cell_type": "code",
      "execution_count": null,
      "metadata": {
        "colab": {
          "base_uri": "https://localhost:8080/",
          "height": 887
        },
        "id": "eZb10kv_c-mH",
        "outputId": "e44b57ad-d613-433b-bfe0-2bef26f3bfa8"
      },
      "outputs": [
        {
          "output_type": "stream",
          "name": "stdout",
          "text": [
            "[Episode 0] - Mean survival time over last 100 episodes: -107.77845185995102 ticks.\n",
            "Episode 0: Total Reward = -107.77845185995102\n",
            "[Episode 20] - Mean survival time over last 100 episodes: -94.14223866164684 ticks.\n",
            "Episode 20: Total Reward = -105.57227709889412\n",
            "[Episode 40] - Mean survival time over last 100 episodes: -94.05762006560477 ticks.\n",
            "Episode 40: Total Reward = -134.0768586397171\n",
            "[Episode 60] - Mean survival time over last 100 episodes: -93.21270325022643 ticks.\n",
            "Episode 60: Total Reward = -77.05443426966667\n",
            "[Episode 80] - Mean survival time over last 100 episodes: -96.85966343165916 ticks.\n",
            "Episode 80: Total Reward = -133.07222867012024\n",
            "Ran 100 episodes. Solved after 100 trials\n"
          ]
        },
        {
          "output_type": "display_data",
          "data": {
            "text/plain": [
              "<Figure size 640x480 with 1 Axes>"
            ],
            "image/png": "[encoded data removed]"
          },
          "metadata": {}
        },
        {
          "output_type": "display_data",
          "data": {
            "text/plain": [
              "\u001b[1mModel: \"sequential_20\"\u001b[0m\n"
            ],
            "text/html": [
              "<pre style=\"white-space:pre;overflow-x:auto;line-height:normal;font-family:Menlo,'DejaVu Sans Mono',consolas,'Courier New',monospace\"><span style=\"font-weight: bold\">Model: \"sequential_20\"</span>\n",
              "</pre>\n"
            ]
          },
          "metadata": {}
        },
        {
          "output_type": "display_data",
          "data": {
            "text/plain": [
              "┏━━━━━━━━━━━━━━━━━━━━━━━━━━━━━━━━━━━━━━┳━━━━━━━━━━━━━━━━━━━━━━━━━━━━━┳━━━━━━━━━━━━━━━━━┓\n",
              "┃\u001b[1m \u001b[0m\u001b[1mLayer (type)                        \u001b[0m\u001b[1m \u001b[0m┃\u001b[1m \u001b[0m\u001b[1mOutput Shape               \u001b[0m\u001b[1m \u001b[0m┃\u001b[1m \u001b[0m\u001b[1m        Param #\u001b[0m\u001b[1m \u001b[0m┃\n",
              "┡━━━━━━━━━━━━━━━━━━━━━━━━━━━━━━━━━━━━━━╇━━━━━━━━━━━━━━━━━━━━━━━━━━━━━╇━━━━━━━━━━━━━━━━━┩\n",
              "│ dense_60 (\u001b[38;5;33mDense\u001b[0m)                     │ (\u001b[38;5;45mNone\u001b[0m, \u001b[38;5;34m24\u001b[0m)                  │              \u001b[38;5;34m72\u001b[0m │\n",
              "├──────────────────────────────────────┼─────────────────────────────┼─────────────────┤\n",
              "│ dense_61 (\u001b[38;5;33mDense\u001b[0m)                     │ (\u001b[38;5;45mNone\u001b[0m, \u001b[38;5;34m24\u001b[0m)                  │             \u001b[38;5;34m600\u001b[0m │\n",
              "├──────────────────────────────────────┼─────────────────────────────┼─────────────────┤\n",
              "│ dense_62 (\u001b[38;5;33mDense\u001b[0m)                     │ (\u001b[38;5;45mNone\u001b[0m, \u001b[38;5;34m3\u001b[0m)                   │              \u001b[38;5;34m75\u001b[0m │\n",
              "└──────────────────────────────────────┴─────────────────────────────┴─────────────────┘\n"
            ],
            "text/html": [
              "<pre style=\"white-space:pre;overflow-x:auto;line-height:normal;font-family:Menlo,'DejaVu Sans Mono',consolas,'Courier New',monospace\">┏━━━━━━━━━━━━━━━━━━━━━━━━━━━━━━━━━━━━━━┳━━━━━━━━━━━━━━━━━━━━━━━━━━━━━┳━━━━━━━━━━━━━━━━━┓\n",
              "┃<span style=\"font-weight: bold\"> Layer (type)                         </span>┃<span style=\"font-weight: bold\"> Output Shape                </span>┃<span style=\"font-weight: bold\">         Param # </span>┃\n",
              "┡━━━━━━━━━━━━━━━━━━━━━━━━━━━━━━━━━━━━━━╇━━━━━━━━━━━━━━━━━━━━━━━━━━━━━╇━━━━━━━━━━━━━━━━━┩\n",
              "│ dense_60 (<span style=\"color: #0087ff; text-decoration-color: #0087ff\">Dense</span>)                     │ (<span style=\"color: #00d7ff; text-decoration-color: #00d7ff\">None</span>, <span style=\"color: #00af00; text-decoration-color: #00af00\">24</span>)                  │              <span style=\"color: #00af00; text-decoration-color: #00af00\">72</span> │\n",
              "├──────────────────────────────────────┼─────────────────────────────┼─────────────────┤\n",
              "│ dense_61 (<span style=\"color: #0087ff; text-decoration-color: #0087ff\">Dense</span>)                     │ (<span style=\"color: #00d7ff; text-decoration-color: #00d7ff\">None</span>, <span style=\"color: #00af00; text-decoration-color: #00af00\">24</span>)                  │             <span style=\"color: #00af00; text-decoration-color: #00af00\">600</span> │\n",
              "├──────────────────────────────────────┼─────────────────────────────┼─────────────────┤\n",
              "│ dense_62 (<span style=\"color: #0087ff; text-decoration-color: #0087ff\">Dense</span>)                     │ (<span style=\"color: #00d7ff; text-decoration-color: #00d7ff\">None</span>, <span style=\"color: #00af00; text-decoration-color: #00af00\">3</span>)                   │              <span style=\"color: #00af00; text-decoration-color: #00af00\">75</span> │\n",
              "└──────────────────────────────────────┴─────────────────────────────┴─────────────────┘\n",
              "</pre>\n"
            ]
          },
          "metadata": {}
        },
        {
          "output_type": "display_data",
          "data": {
            "text/plain": [
              "\u001b[1m Total params: \u001b[0m\u001b[38;5;34m2,243\u001b[0m (8.77 KB)\n"
            ],
            "text/html": [
              "<pre style=\"white-space:pre;overflow-x:auto;line-height:normal;font-family:Menlo,'DejaVu Sans Mono',consolas,'Courier New',monospace\"><span style=\"font-weight: bold\"> Total params: </span><span style=\"color: #00af00; text-decoration-color: #00af00\">2,243</span> (8.77 KB)\n",
              "</pre>\n"
            ]
          },
          "metadata": {}
        },
        {
          "output_type": "display_data",
          "data": {
            "text/plain": [
              "\u001b[1m Trainable params: \u001b[0m\u001b[38;5;34m747\u001b[0m (2.92 KB)\n"
            ],
            "text/html": [
              "<pre style=\"white-space:pre;overflow-x:auto;line-height:normal;font-family:Menlo,'DejaVu Sans Mono',consolas,'Courier New',monospace\"><span style=\"font-weight: bold\"> Trainable params: </span><span style=\"color: #00af00; text-decoration-color: #00af00\">747</span> (2.92 KB)\n",
              "</pre>\n"
            ]
          },
          "metadata": {}
        },
        {
          "output_type": "display_data",
          "data": {
            "text/plain": [
              "\u001b[1m Non-trainable params: \u001b[0m\u001b[38;5;34m0\u001b[0m (0.00 B)\n"
            ],
            "text/html": [
              "<pre style=\"white-space:pre;overflow-x:auto;line-height:normal;font-family:Menlo,'DejaVu Sans Mono',consolas,'Courier New',monospace\"><span style=\"font-weight: bold\"> Non-trainable params: </span><span style=\"color: #00af00; text-decoration-color: #00af00\">0</span> (0.00 B)\n",
              "</pre>\n"
            ]
          },
          "metadata": {}
        },
        {
          "output_type": "display_data",
          "data": {
            "text/plain": [
              "\u001b[1m Optimizer params: \u001b[0m\u001b[38;5;34m1,496\u001b[0m (5.85 KB)\n"
            ],
            "text/html": [
              "<pre style=\"white-space:pre;overflow-x:auto;line-height:normal;font-family:Menlo,'DejaVu Sans Mono',consolas,'Courier New',monospace\"><span style=\"font-weight: bold\"> Optimizer params: </span><span style=\"color: #00af00; text-decoration-color: #00af00\">1,496</span> (5.85 KB)\n",
              "</pre>\n"
            ]
          },
          "metadata": {}
        }
      ],
      "source": [
        "import random\n",
        "import gym\n",
        "import numpy as np\n",
        "from collections import deque\n",
        "import tensorflow as tf\n",
        "from tensorflow.keras.models import Sequential\n",
        "from tensorflow.keras.layers import Dense\n",
        "from tensorflow.keras.optimizers import Adam\n",
        "import matplotlib.pyplot as plt\n",
        "\n",
        "SEED = 40\n",
        "random.seed(SEED)\n",
        "np.random.seed(SEED)\n",
        "tf.random.set_seed(SEED)\n",
        "\n",
        "EPOCHS = 1000\n",
        "THRESHOLD = -110\n",
        "BATCH_SIZE = 64\n",
        "\n",
        "class DQN:\n",
        "    def __init__(self, env_string, batch_size=BATCH_SIZE):\n",
        "        self.memory = deque(maxlen=100000)\n",
        "        self.env = gym.make(env_string)\n",
        "        input_size = self.env.observation_space.shape[0]\n",
        "        action_size = self.env.action_space.n\n",
        "        self.batch_size = batch_size\n",
        "        self.gamma = 0.99\n",
        "        self.epsilon = 1.0\n",
        "        self.epsilon_min = 0.01\n",
        "        self.epsilon_decay = 0.995\n",
        "        self.alpha = 0.01\n",
        "\n",
        "        self.model = Sequential()\n",
        "        self.model.add(Dense(24, input_dim=input_size, activation='relu'))\n",
        "        self.model.add(Dense(24, activation=\"relu\"))\n",
        "        self.model.add(Dense(action_size, activation=\"linear\"))\n",
        "        self.model.compile(loss=\"mse\", optimizer=Adam(learning_rate=self.alpha))\n",
        "\n",
        "    def remember(self, state, action, reward, next_state, done):\n",
        "        self.memory.append((state, action, reward, next_state, done))\n",
        "\n",
        "    def choose_action(self, state):\n",
        "        if np.random.rand() <= self.epsilon:\n",
        "            return self.env.action_space.sample()\n",
        "        q_values = self.model.predict(state, verbose=0)\n",
        "        return np.argmax(q_values[0])\n",
        "\n",
        "    def preprocess_state(self, state):\n",
        "        return np.reshape(state, [1, self.env.observation_space.shape[0]])\n",
        "\n",
        "    def replay(self):\n",
        "        if len(self.memory) < self.batch_size:\n",
        "            return\n",
        "        minibatch = random.sample(self.memory, self.batch_size)\n",
        "        for state, action, reward, next_state, done in minibatch:\n",
        "            target = reward if done else reward + self.gamma * np.amax(self.model.predict(next_state, verbose=0)[0])\n",
        "            target_f = self.model.predict(state, verbose=0)\n",
        "            target_f[0][action] = target\n",
        "            self.model.fit(state, target_f, epochs=1, verbose=0)\n",
        "            if self.epsilon > self.epsilon_min:\n",
        "                self.epsilon *= self.epsilon_decay\n",
        "\n",
        "    def train(self):\n",
        "        scores = deque(maxlen=100)\n",
        "        avg_scores = []\n",
        "        for e in range(EPOCHS):\n",
        "            state = self.env.reset()\n",
        "            state = self.preprocess_state(state)\n",
        "            done = False\n",
        "            i = 0\n",
        "            while not done:\n",
        "                action = self.choose_action(state)\n",
        "                next_state, reward, done, _ = self.env.step(action)\n",
        "                next_state = self.preprocess_state(next_state)\n",
        "                reward = next_state[0][0]\n",
        "                if done and next_state[0][0] >= 0.5:\n",
        "                  reward = 100\n",
        "                self.remember(state, action, reward, next_state, done)\n",
        "                state = next_state\n",
        "                i+= reward\n",
        "            scores.append(i)\n",
        "            avg_score = np.mean(scores)\n",
        "            avg_scores.append(avg_score)\n",
        "\n",
        "            if avg_score >= THRESHOLD and e >= 100:\n",
        "                print(\"Ran {} episodes. Solved after {} trials\".format(e, e))\n",
        "                return avg_scores\n",
        "\n",
        "            if e % 20 == 0:\n",
        "                print(\"[Episode {}] - Mean survival time over last 100 episodes: {} ticks.\".format(e, avg_score))\n",
        "                print(\"Episode {}: Total Reward = {}\".format(e, i))\n",
        "\n",
        "            self.replay()\n",
        "\n",
        "        print('Did not solve after {} episodes'.format(e))\n",
        "        return avg_score\n",
        "\n",
        "env_string = \"MountainCar-v0\"\n",
        "agent = DQN(env_string)\n",
        "avg_scores = agent.train()\n",
        "\n",
        "plt.plot(avg_scores)\n",
        "plt.xlabel('Episodes')\n",
        "plt.ylabel('Average Reward')\n",
        "plt.title('DQN Training Performance on MountainCar-v0')\n",
        "plt.show()\n",
        "\n",
        "agent.model.summary()\n"
      ]
    }
  ],
  "metadata": {
    "colab": {
      "provenance": [],
      "include_colab_link": true
    },
    "kernelspec": {
      "display_name": "Python 3",
      "name": "python3"
    },
    "language_info": {
      "name": "python"
    }
  },
  "nbformat": 4,
  "nbformat_minor": 0
}